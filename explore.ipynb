{
 "cells": [
  {
   "cell_type": "code",
   "execution_count": 8,
   "source": [
    "import library\n",
    "\n",
    "boards = library.load_boards()\n",
    "socs = library.load_socs()\n",
    "chip_families = library.load_chip_families()\n",
    "manufacturers = library.load_manufacturers()\n",
    "flattened_socs = library.load_flattened_socs()\n",
    "flattened_boards = library.load_flattened_boards()"
   ],
   "outputs": [],
   "metadata": {}
  },
  {
   "cell_type": "code",
   "execution_count": 10,
   "source": [
    "for board_id, board in flattened_boards.items():\n",
    "    pass"
   ],
   "outputs": [
    {
     "output_type": "stream",
     "name": "stdout",
     "text": [
      "sparkfun-freesoc2\n"
     ]
    }
   ],
   "metadata": {}
  }
 ],
 "metadata": {
  "orig_nbformat": 4,
  "language_info": {
   "name": "python",
   "version": "3.9.7",
   "mimetype": "text/x-python",
   "codemirror_mode": {
    "name": "ipython",
    "version": 3
   },
   "pygments_lexer": "ipython3",
   "nbconvert_exporter": "python",
   "file_extension": ".py"
  },
  "kernelspec": {
   "name": "python3",
   "display_name": "Python 3.9.7 64-bit"
  },
  "interpreter": {
   "hash": "aee8b7b246df8f9039afb4144a1f6fd8d2ca17a180786b69acc140d282b71a49"
  }
 },
 "nbformat": 4,
 "nbformat_minor": 2
}